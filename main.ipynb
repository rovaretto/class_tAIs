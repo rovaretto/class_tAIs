{
 "cells": [
  {
   "metadata": {
    "ExecuteTime": {
     "end_time": "2024-12-14T15:26:30.682176Z",
     "start_time": "2024-12-14T15:26:30.677302Z"
    }
   },
   "cell_type": "code",
   "source": [
    "\n",
    "\n",
    "contenuto = \"\"\"\n",
    "Capitolo 4\n",
    "\n",
    "POLINOMI\n",
    "\n",
    "4.1 Polinomi\n",
    "\n",
    "Definizione 4.1.1. Si dice polinomio un’espressione ottenuta dalla somma algebrica di monomi.\n",
    "\n",
    "Esempio 4.1.1. Sono polinomi le seguenti espressioni:\n",
    "\n",
    "− 2ab + 3a² − 2b + 1\n",
    "\n",
    "½a² + 3 − 2a + 5 − a\n",
    "\n",
    "All’occorrenza un polinomio può essere “etichettato” utilizzando una lettera maiuscola seguita da una parentesi tonda contenente le lettere presenti nel polinomio; con riferimento all’esempio scriveremo:\n",
    "\n",
    "P(a, b) = −2ab + 3a² − 2b + 1\n",
    "\n",
    "Q(a) = ½a² + 3 − 2a + 5 − a\n",
    "\n",
    "Definizione 4.1.2. Un polinomio si dice ridotto a forma normale se non contiene monomi simili.\n",
    "\n",
    "Relativamente all’esempio precedente il polinomio P(a, b) è già in forma normale; la forma normale del polinomio Q(a) è:\n",
    "\n",
    "½a² + 8 − 3a\n",
    "\n",
    "D’ora in poi, quando parleremo di polinomi, li intenderemo ridotti a forma normale.\n",
    "\n",
    "Osservazione. Ogni monomio è un particolare polinomio in quanto si può ottenere come somma di monomi simili. Ricorrendo alla terminologia insiemistica possiamo affermare che l’insieme Q è un sottoinsieme dell’insieme dei monomi M che a sua volta è sottoinsieme dell’insieme dei polinomi P.\n",
    "\n",
    "P\n",
    "\n",
    "M\n",
    "\n",
    "Q\n",
    "\n",
    "Il monomio nullo pensato come un polinomio si chiama polinomio nullo. È consuetudine chiamare binomio, trinomio, e quadrinomio rispettivamente un polinomio con due, tre, quattro monomi.\n",
    "\n",
    "Definizione 4.1.3. Si dice grado relativo (assoluto) di un polinomio non nullo il grado relativo (assoluto) del monomio componente di grado maggiore.\n",
    "\n",
    "Esempio 4.1.2. Dato il polinomio: \n",
    "3b⁴ − 2ab³c + ½ac³ − 5a²b² \n",
    "\n",
    "il grado relativo alla lettera:\n",
    "\n",
    "- a è 2 ed è dato dal monomio −5a²b²\n",
    "- b è 4 ed è dato dal monomio 3b⁴\n",
    "- c è 3 ed è dato dal monomio ½ac³\n",
    "- d è 0\n",
    "\n",
    "...e il grado assoluto è 5 ed è dato dal monomio −2ab³c.\n",
    "\n",
    "Esempio 4.1.3. Dato il polinomio:\n",
    "x³y − 3/5 x²y² − 2y²\n",
    "\n",
    "il grado relativo alla lettera:\n",
    "\n",
    "- x è 3 ed è dato dal monomio x³y\n",
    "- y è 2 ed è dato indifferentemente da −3/5 x²y² e −2y²\n",
    "\n",
    "e il grado assoluto è 4 ed è dato indifferentemente da x³y e −3/5 x²y².\n",
    "\n",
    "Dato un polinomio, con riferimento ad una lettera, si dice termine noto il monomio di grado zero. Qualora il polinomio contenga una sola lettera si dice coefficiente direttivo il coefficiente del monomio di grado maggiore.\n",
    "\n",
    "Definizione 4.1.4. Un polinomio si dice omogeneo quando tutti i monomi che lo compongono hanno lo stesso grado assoluto.\n",
    "\n",
    "Definizione 4.1.5. Un polinomio si dice ordinato rispetto ad una lettera quando i monomi componenti sono scritti secondo le potenze crescenti o decrescenti di quella lettera. Generalmente si preferisce ordinare secondo le potenze decrescenti della lettera.\n",
    "\n",
    "Definizione 4.1.6. Un polinomio si dice completo rispetto ad una lettera quando contiene tutte le potenze di quella lettera dal grado relativo fino a zero.\n",
    "\n",
    "Esercizio 4.1.1. Stabilire grado assoluto e relativo dei seguenti polinomi e ordinarli rispetto a ciascuna lettera:\n",
    "\n",
    "• x²y³ + x⁵ − 2xy⁴ − 3x³y² + 9y⁵\n",
    "\n",
    "• 2a³b − a⁴ + b⁴ + 8a²b²\n",
    "\n",
    "4.2 Operazioni\n",
    "\n",
    "Definizione 4.2.1. La somma tra polinomi è il polinomio che si ottiene sommando i monomi di tutti i polinomi.\n",
    "\n",
    "Esempio 4.2.1. \n",
    "(3a − 5ab + 2) + (−2a² + 3 + 2ab) = 3a − 3ab + 5 − 2a²\n",
    "\n",
    "Definizione 4.2.2. La differenza tra due polinomi è il polinomio che si ottiene sommando ai monomi del primo polinomio gli opposti del secondo.\n",
    "\n",
    "Esempio 4.2.2.\n",
    "(3a − 5ab + 2) − (−2a² + 3 + 2ab) = (3a − 5ab + 2) + (+2a² − 3 − 2ab) = 2a² − 7ab + 3a − 1\n",
    "\n",
    "In generale l’addizione algebrica tra polinomi si esegue togliendo le parentesi ai polinomi e cambiando il segno a quelli preceduti dal segno meno.\n",
    "\n",
    "Esempio 4.2.3.\n",
    "(x − 1) + (x − 2y + 3) − (2x + 2 − 5y) = x − 1 + x − 2y + 3 − 2x − 2 + 5y = 3y\n",
    "\n",
    "Esercizio 4.2.1.\n",
    "\n",
    "• (a² + ab + 3b²) − (a² − 2ab + 3b²)\n",
    "\n",
    "• (2x − y − z) − (3x + 2y − 3z) − (y + 4x − z) + (5x − 4z + 4y)\n",
    "\n",
    "Definizione 4.2.3. Il prodotto tra due polinomi è il polinomio che si ottiene moltiplicando ogni monomio del primo polinomio per tutti quelli del secondo.\n",
    "\n",
    "Esempio 4.2.4.\n",
    "\n",
    "(3x² − xy⁴) · (−2x + y⁴) = −6x³ + 3x²y⁴ + 2x²y⁴ − xy⁸ = −6x³ + 5x²y⁴ − xy⁸\n",
    "\n",
    "Esercizio 4.2.2.\n",
    "\n",
    "• (2x − 3y) (½y + 5x)\n",
    "\n",
    "• (2a² + b − ½)(½ + b − 2a²)\n",
    "\n",
    "• (3a² − 1)(2a + 1)(a² − a + 3)\n",
    "\n",
    "Un esempio di una espressione algebrica contenente le operazioni sin qui definite è il seguente:\n",
    "\n",
    "Esempio 4.2.5.\n",
    "(x + 2y)(2x − y + 3) − 2(x² − y²) + (x − y)(y − 3) =\n",
    "2x² − xy + 3x + 4xy − 2y² + 6y − 2x² + 2y² + xy − 3x − y² + 3y =\n",
    "−y² + 4xy + 9y\n",
    "\"\"\"\n",
    "import regex as re\n",
    "cont_split = re.split(r'(?=\\b(Definizione)\\b)', contenuto)\n",
    "cont_split = [word for word in cont_split if word not in ['Definizione']]\n",
    "\n",
    "topics = {}\n",
    "for i in range(len(cont_split)):\n",
    "    match = re.match(r\"(Definizione) \\d+\\.\\d+\\.\\d+\", cont_split[i])\n",
    "    if match is not None:\n",
    "        index = str(match.group(0))\n",
    "        topics[index] = cont_split[i]\n",
    "\n",
    "for index in topics:\n",
    "    print(f\"{index}\")"
   ],
   "id": "82a5717c5d6eb12a",
   "outputs": [
    {
     "name": "stdout",
     "output_type": "stream",
     "text": [
      "Definizione 4.1.1\n",
      "Definizione 4.1.2\n",
      "Definizione 4.1.3\n",
      "Definizione 4.1.4\n",
      "Definizione 4.1.5\n",
      "Definizione 4.1.6\n",
      "Definizione 4.2.1\n",
      "Definizione 4.2.2\n",
      "Definizione 4.2.3\n"
     ]
    }
   ],
   "execution_count": 10
  },
  {
   "metadata": {
    "ExecuteTime": {
     "end_time": "2024-12-14T15:26:30.730225Z",
     "start_time": "2024-12-14T15:26:30.727883Z"
    }
   },
   "cell_type": "code",
   "source": [
    "questions = {0:\"Il grado assoluto del polinomio nell'esempio è 5: vuol dire che devo fare la somma delle lettere nel monomio? \",\n",
    "            1:\"Spiegare con altri esempi la differenza tra grado relativo e grado assoluto.\",\n",
    "            2:\"Che cos’è un monomio di grado zero?\", \n",
    "            3:\"Vorrei vedere altri esempi di moltiplicazione tra polinomi.\",\n",
    "            4:\"Questo polinomio è completo? x^2*y^3 + x^5 − 2xy^4 − 3x^3y^2 + 9y^5\"}\n",
    "\n",
    "label = {0:'Definizione 4.1.3',\n",
    "         1:'Definizione 4.1.3',\n",
    "         2:'Definizione 4.1.3',\n",
    "         3:'Definizione 4.2.3',\n",
    "         4:'Definizione 4.1.6'}"
   ],
   "id": "57cb8c4f695b7fba",
   "outputs": [],
   "execution_count": 11
  },
  {
   "cell_type": "code",
   "id": "initial_id",
   "metadata": {
    "collapsed": true,
    "ExecuteTime": {
     "end_time": "2024-12-14T15:26:33.034939Z",
     "start_time": "2024-12-14T15:26:30.775867Z"
    }
   },
   "source": [
    "from sentence_transformers import SentenceTransformer, util\n",
    "\n",
    "# Modello SBERT preaddestrato\n",
    "model = SentenceTransformer('distiluse-base-multilingual-cased-v1')\n",
    "\n",
    "# Calcola embedding\n",
    "questions_embeddings = model.encode(list(questions.values()), convert_to_tensor=True)\n",
    "topic_embeddings = model.encode(list(topics.values()), convert_to_tensor=True)\n",
    "\n",
    "# Calcola similarità coseno\n",
    "similarities = util.cos_sim(questions_embeddings, topic_embeddings).cpu()\n",
    "\n",
    "print(similarities)"
   ],
   "outputs": [
    {
     "name": "stdout",
     "output_type": "stream",
     "text": [
      "tensor([[0.5686, 0.4789, 0.5840, 0.5226, 0.4446, 0.4994, 0.5810, 0.4918, 0.5229],\n",
      "        [0.1031, 0.0918, 0.2736, 0.2315, 0.0377, 0.2271, 0.1535, 0.1859, 0.0976],\n",
      "        [0.3447, 0.4230, 0.5366, 0.4647, 0.2779, 0.3152, 0.3411, 0.2803, 0.3259],\n",
      "        [0.4531, 0.3630, 0.2771, 0.2664, 0.2097, 0.2824, 0.4627, 0.4463, 0.4695],\n",
      "        [0.5288, 0.4045, 0.4093, 0.3591, 0.2677, 0.5129, 0.6016, 0.5442, 0.6106]])\n"
     ]
    }
   ],
   "execution_count": 12
  },
  {
   "metadata": {
    "ExecuteTime": {
     "end_time": "2024-12-14T15:26:33.063178Z",
     "start_time": "2024-12-14T15:26:33.059414Z"
    }
   },
   "cell_type": "code",
   "source": [
    "import numpy as np\n",
    "# Calcola similarità coseno\n",
    "similarities = util.cos_sim(questions_embeddings, topic_embeddings).cpu()\n",
    "\n",
    "# Assegna il topic più vicino a ogni domanda\n",
    "for i in questions:\n",
    "    closest_topic_idx = np.argmax(similarities[i].numpy())\n",
    "    predicted = list(topics.keys())[closest_topic_idx] #trova la sezione corrispondente\n",
    "    print(f\"Domanda: {questions[i]}\")\n",
    "    print(f\"Corretto pred=label={predicted}\" if predicted == label[i] else f\"Non corretto pred={predicted} label = {label[i]}\")\n",
    "    print()"
   ],
   "id": "796ffa540e2e75ed",
   "outputs": [
    {
     "name": "stdout",
     "output_type": "stream",
     "text": [
      "Domanda: Il grado assoluto del polinomio nell'esempio è 5: vuol dire che devo fare la somma delle lettere nel monomio? \n",
      "Corretto pred=label=Definizione 4.1.3\n",
      "\n",
      "Domanda: Spiegare con altri esempi la differenza tra grado relativo e grado assoluto.\n",
      "Corretto pred=label=Definizione 4.1.3\n",
      "\n",
      "Domanda: Che cos’è un monomio di grado zero?\n",
      "Corretto pred=label=Definizione 4.1.3\n",
      "\n",
      "Domanda: Vorrei vedere altri esempi di moltiplicazione tra polinomi.\n",
      "Corretto pred=label=Definizione 4.2.3\n",
      "\n",
      "Domanda: Questo polinomio è completo? x^2*y^3 + x^5 − 2xy^4 − 3x^3y^2 + 9y^5\n",
      "Non corretto pred=Definizione 4.2.3 label = Definizione 4.1.6\n",
      "\n"
     ]
    }
   ],
   "execution_count": 13
  },
  {
   "metadata": {
    "ExecuteTime": {
     "end_time": "2024-12-14T15:26:33.100558Z",
     "start_time": "2024-12-14T15:26:33.096766Z"
    }
   },
   "cell_type": "code",
   "source": [
    "def rank_definizioni(similarities_row):\n",
    "    return sorted(range(len(similarities_row)), key=lambda x: similarities[x], reverse=True)\n",
    " \n",
    "def offset_true_definition(rank,label):\n",
    "    result = []\n",
    "    return rank.index(label)\n",
    "    \n",
    "\n",
    "result = []\n",
    "for i in questions:\n",
    "    rank = sorted(range(len(similarities[i].numpy())), key=lambda x: similarities[i,x], reverse=True)\n",
    "    definition_rank = [list(topics.keys())[i] for i in rank]\n",
    "    offset = offset_true_definition(definition_rank,label[i])\n",
    "    result.append(offset+1)\n",
    "\n",
    "print(result)"
   ],
   "id": "644ffb4ccbb2098f",
   "outputs": [
    {
     "name": "stdout",
     "output_type": "stream",
     "text": [
      "[1, 1, 1, 1, 5]\n"
     ]
    }
   ],
   "execution_count": 14
  },
  {
   "metadata": {
    "ExecuteTime": {
     "end_time": "2024-12-14T15:26:37.961624Z",
     "start_time": "2024-12-14T15:26:35.392888Z"
    }
   },
   "cell_type": "code",
   "source": [
    "from sentence_transformers import SentenceTransformer, util\n",
    "\n",
    "# Modello SBERT preaddestrato\n",
    "model = SentenceTransformer('distiluse-base-multilingual-cased-v1')\n",
    "\n",
    "topics_arg_name = ['Definizione di polinomio',\n",
    "                   'Definizione di polinomio in forma normale', \n",
    "                   'Definizione di grado relativo e assoluto di un polinomio',\n",
    "                   'Definizione di polinomio nullo',\n",
    "                   'Definizione di polinomio omogeneo',\n",
    "                   'Definizione di polinomio ordinato rispetto a una lettera',\n",
    "                   'Definizione di polinomio completo rispetto a una lettera',\n",
    "                   'Definizione di somma tra polinomi',\n",
    "                   'Definizione di differenza tra polinomi',\n",
    "                   'Definizione di prodotto tra polinomi']\n",
    "\n",
    "# Calcola embedding\n",
    "topics_arg_name_embeddings = model.encode(topics_arg_name, convert_to_tensor=True)\n",
    "\n",
    "# Calcola similarità coseno\n",
    "similarities = model.similarity(questions_embeddings, topics_arg_name_embeddings).cpu()\n",
    "\n",
    "print(similarities)"
   ],
   "id": "9609dcaf39abf9cc",
   "outputs": [
    {
     "name": "stdout",
     "output_type": "stream",
     "text": [
      "tensor([[0.4523, 0.4187, 0.5336, 0.4000, 0.4835, 0.4824, 0.5041, 0.4938, 0.4203,\n",
      "         0.3961],\n",
      "        [0.2461, 0.2084, 0.5165, 0.2259, 0.2061, 0.2521, 0.2662, 0.2974, 0.4158,\n",
      "         0.2528],\n",
      "        [0.3541, 0.3081, 0.4472, 0.4856, 0.4317, 0.2732, 0.2859, 0.3372, 0.3261,\n",
      "         0.2871],\n",
      "        [0.4625, 0.4127, 0.3930, 0.3534, 0.4251, 0.4010, 0.3889, 0.5385, 0.4954,\n",
      "         0.4430],\n",
      "        [0.4702, 0.4139, 0.4409, 0.3899, 0.4470, 0.3458, 0.5351, 0.4884, 0.3839,\n",
      "         0.3880]])\n"
     ]
    }
   ],
   "execution_count": 15
  },
  {
   "metadata": {
    "ExecuteTime": {
     "end_time": "2024-12-14T15:26:40.107564Z",
     "start_time": "2024-12-14T15:26:40.103950Z"
    }
   },
   "cell_type": "code",
   "source": [
    "for i in questions:\n",
    "    closest_topic_idx = np.argmax(similarities[i].numpy())\n",
    "    predicted = list(topics.keys())[closest_topic_idx] #trova la sezione corrispondente\n",
    "    print(f\"Domanda: {questions[i]}\")\n",
    "    print(f\"Corretto pred=label={predicted}\" if predicted == label[i] else f\"Non corretto pred={predicted} label = {label[i]}\")\n",
    "    print()"
   ],
   "id": "128ac5e5905c770b",
   "outputs": [
    {
     "name": "stdout",
     "output_type": "stream",
     "text": [
      "Domanda: Il grado assoluto del polinomio nell'esempio è 5: vuol dire che devo fare la somma delle lettere nel monomio? \n",
      "Corretto pred=label=Definizione 4.1.3\n",
      "\n",
      "Domanda: Spiegare con altri esempi la differenza tra grado relativo e grado assoluto.\n",
      "Corretto pred=label=Definizione 4.1.3\n",
      "\n",
      "Domanda: Che cos’è un monomio di grado zero?\n",
      "Non corretto pred=Definizione 4.1.4 label = Definizione 4.1.3\n",
      "\n",
      "Domanda: Vorrei vedere altri esempi di moltiplicazione tra polinomi.\n",
      "Non corretto pred=Definizione 4.2.2 label = Definizione 4.2.3\n",
      "\n",
      "Domanda: Questo polinomio è completo? x^2*y^3 + x^5 − 2xy^4 − 3x^3y^2 + 9y^5\n",
      "Non corretto pred=Definizione 4.2.1 label = Definizione 4.1.6\n",
      "\n"
     ]
    }
   ],
   "execution_count": 16
  },
  {
   "metadata": {
    "ExecuteTime": {
     "end_time": "2024-12-14T16:42:29.436037Z",
     "start_time": "2024-12-14T16:42:29.408397Z"
    }
   },
   "cell_type": "code",
   "source": [
    "definizioni_grado = [\n",
    "    \"Il grado assoluto di un polinomio è il grado complessivo del polinomio, dato dalla somma degli esponenti delle variabili nei termini con il massimo grado.\",\n",
    "    \"Il grado relativo di un polinomio rispetto a una variabile è l'esponente più alto con cui quella variabile compare in qualsiasi termine del polinomio.\",\n",
    "    \"Nel contesto dei polinomi in più variabili, il grado assoluto considera tutte le variabili insieme, mentre il grado relativo considera una sola variabile specifica.\",\n",
    "    \"Il grado assoluto è una misura globale del polinomio, mentre il grado relativo offre una visione più specifica per ogni variabile.\",\n",
    "    \"Per un polinomio come 3x^2y + 5xy^3, il grado assoluto è 4 (2+2 nel termine di grado massimo), mentre il grado relativo rispetto a x è 2 e rispetto a y è 3.\"\n",
    "]\n",
    "\n",
    "definizioni_nullo = [\n",
    "    \"Il polinomio nullo è un polinomio in cui tutti i coefficienti dei termini sono uguali a zero.\",\n",
    "    \"Matematicamente, il polinomio nullo è rappresentato semplicemente come 0.\",\n",
    "    \"Il grado del polinomio nullo è indefinito, poiché non ha termini con variabili.\",\n",
    "    \"Il polinomio nullo è l'elemento neutro dell'addizione nell'insieme dei polinomi.\",\n",
    "    \"Il polinomio nullo non contiene termini e, quindi, non ha radici in senso convenzionale.\"\n",
    "]\n",
    "\n",
    "definizioni_completo = [\n",
    "    \"Un polinomio completo è un polinomio in cui sono presenti tutti i termini fino al grado massimo specificato, includendo quelli con coefficienti uguali a zero.\",\n",
    "    \"In un polinomio completo, ogni potenza della variabile fino al grado massimo è rappresentata con un termine, indipendentemente dal valore del coefficiente.\",\n",
    "    \"Un polinomio completo è una somma algebrica di termini in cui ogni esponente fino al grado massimo è rappresentato una volta.\",\n",
    "    \"Si definisce polinomio completo un'espressione algebrica in cui tutti i monomi fino al grado massimo sono esplicitamente indicati, anche se alcuni coefficienti sono nulli.\",\n",
    "    \"Un polinomio completo contiene ogni termine di grado compreso tra 0 e il grado massimo specificato, senza omissioni tra le potenze della variabile.\"\n",
    "]\n",
    "\n",
    "\n",
    "print(questions[4])\n",
    "domanda = model.encode(questions[4], convert_to_tensor=True)\n",
    "\n",
    "grado_embedding = model.encode(definizioni_grado, convert_to_tensor=True)\n",
    "nullo_embedding = model.encode(definizioni_nullo, convert_to_tensor=True)\n",
    "completo_embedding = model.encode(definizioni_completo, convert_to_tensor=True)\n",
    "\n",
    "similarities_grado = model.similarity(grado_embedding, domanda).cpu()\n",
    "similarities_nullo = model.similarity(nullo_embedding, domanda).cpu()\n",
    "similarities_completo = model.similarity(completo_embedding, domanda).cpu()\n",
    "\n",
    "print(\"grado\", similarities_grado.mean(), similarities_grado.std())\n",
    "print(\"nullo\", similarities_nullo.mean(), similarities_nullo.std())\n",
    "print(\"completo\", similarities_completo.mean(), similarities_completo.std())"
   ],
   "id": "1b198ef6302db09d",
   "outputs": [
    {
     "name": "stdout",
     "output_type": "stream",
     "text": [
      "Questo polinomio è completo? x^2*y^3 + x^5 − 2xy^4 − 3x^3y^2 + 9y^5\n",
      "grado tensor(0.4202) tensor(0.1813)\n",
      "nullo tensor(0.3711) tensor(0.0364)\n",
      "completo tensor(0.4761) tensor(0.0660)\n"
     ]
    }
   ],
   "execution_count": 62
  },
  {
   "metadata": {
    "ExecuteTime": {
     "end_time": "2024-12-12T11:19:55.411770Z",
     "start_time": "2024-12-12T11:19:55.390296Z"
    }
   },
   "cell_type": "code",
   "source": [
    "frase = \"Mi sono sentito ottimista riguardo al futuro. Questo con un valore 1, su una scala da 1 a 5\"\n",
    "costrutto_1 = \"Ottimismo\"\n",
    "costrutto_2 = \"Depresso\"\n",
    "costrutto_3 = \"Speranza\"\n",
    "\n",
    "\n",
    "frase_embedding = model.encode(frase, convert_to_tensor=True)\n",
    "costrutto_1_embedding = model.encode(costrutto_1, convert_to_tensor=True)\n",
    "costrutto_2_embedding = model.encode(costrutto_2, convert_to_tensor=True)\n",
    "costrutto_3_embedding = model.encode(costrutto_3, convert_to_tensor=True)\n",
    "# Calcola similarità coseno\n",
    "similarities_1 = model.similarity(frase_embedding,costrutto_1_embedding).cpu()\n",
    "similarities_2 = model.similarity(frase_embedding,costrutto_2_embedding).cpu()\n",
    "similarities_3 = model.similarity(frase_embedding,costrutto_3_embedding).cpu()\n",
    "print(similarities_1)\n",
    "print(similarities_2)\n",
    "print(similarities_3)"
   ],
   "id": "7bf939f1ea026b3a",
   "outputs": [
    {
     "name": "stdout",
     "output_type": "stream",
     "text": [
      "tensor([[0.1516]])\n",
      "tensor([[0.0244]])\n",
      "tensor([[0.2440]])\n"
     ]
    }
   ],
   "execution_count": 39
  },
  {
   "metadata": {
    "ExecuteTime": {
     "end_time": "2024-12-12T11:17:25.957280Z",
     "start_time": "2024-12-12T11:17:25.953763Z"
    }
   },
   "cell_type": "code",
   "source": [
    "similarities_3 = model.similarity(frase_embedding * 0.5,costrutto_3_embedding).cpu()\n",
    "print(similarities_3)"
   ],
   "id": "6bcba2050d52cf0",
   "outputs": [
    {
     "name": "stdout",
     "output_type": "stream",
     "text": [
      "tensor([[0.3198]])\n"
     ]
    }
   ],
   "execution_count": 26
  },
  {
   "metadata": {
    "ExecuteTime": {
     "end_time": "2024-12-12T11:46:25.834006Z",
     "start_time": "2024-12-12T11:46:25.824240Z"
    }
   },
   "cell_type": "code",
   "source": [
    "frase = (\"Posso chiamare il mio gatto alfredo?\")\n",
    "\n",
    "frase_embedding = model.encode(frase, convert_to_tensor=True)\n",
    "# Calcola similarità coseno\n",
    "similarities_1 = model.similarity(frase_embedding,topic_embeddings).cpu()\n",
    "print(similarities_1)\n",
    "\n",
    "print(frase)"
   ],
   "id": "e2a94ce32873eec7",
   "outputs": [
    {
     "name": "stdout",
     "output_type": "stream",
     "text": [
      "tensor([[0.0310, 0.0021, 0.0111, 0.0318, 0.0002, 0.0007, 0.0420, 0.0293, 0.0233]])\n",
      "Posso chiamare il mio gatto alfredo?\n"
     ]
    }
   ],
   "execution_count": 48
  },
  {
   "metadata": {
    "ExecuteTime": {
     "end_time": "2024-12-12T11:55:48.866255Z",
     "start_time": "2024-12-12T11:55:48.848172Z"
    }
   },
   "cell_type": "code",
   "source": [
    "questions = {0:\"Il grado assoluto del polinomio nell'esempio è 5: vuol dire che devo fare la somma delle lettere nel monomio? \",\n",
    "            1:\"Spiegare con altri esempi la differenza tra grado relativo e grado assoluto.\",\n",
    "            2:\"Che cos’è un monomio di grado zero?\", \n",
    "            3:\"Vorrei vedere altri esempi di moltiplicazione tra polinomi.\",\n",
    "            4:\"Posso chiamare il mio gatto alfredo?\" \n",
    "             }\n",
    "questions_embeddings = model.encode(questions, convert_to_tensor=True)\n",
    "# Calcola similarità coseno\n",
    "similarities = model.similarity(questions_embeddings, questions_embeddings).cpu()\n",
    "print(similarities)"
   ],
   "id": "ca0856ebfb5762bb",
   "outputs": [
    {
     "name": "stdout",
     "output_type": "stream",
     "text": [
      "tensor([[1.0000, 0.3375, 0.5885, 0.5215, 0.1556],\n",
      "        [0.3375, 1.0000, 0.2386, 0.4591, 0.0194],\n",
      "        [0.5885, 0.2386, 1.0000, 0.1986, 0.1570],\n",
      "        [0.5215, 0.4591, 0.1986, 1.0000, 0.0776],\n",
      "        [0.1556, 0.0194, 0.1570, 0.0776, 1.0000]])\n"
     ]
    }
   ],
   "execution_count": 51
  },
  {
   "metadata": {
    "ExecuteTime": {
     "end_time": "2024-12-12T12:01:39.404932Z",
     "start_time": "2024-12-12T12:01:39.216380Z"
    }
   },
   "cell_type": "code",
   "source": [
    "from sklearn.manifold import TSNE\n",
    "import matplotlib.pyplot as plt\n",
    "\n",
    "# Riduzione della dimensionalità a 2D\n",
    "tsne = TSNE(n_components=2, random_state=42, perplexity=4)\n",
    "reduced_data = tsne.fit_transform(questions_embeddings.cpu())\n",
    "\n",
    "# Visualizzazione\n",
    "plt.scatter(reduced_data[:, 0], reduced_data[:, 1], cmap='viridis')  # Se hai etichette\n",
    "plt.title('t-SNE Visualization')\n",
    "plt.show()\n"
   ],
   "id": "fa9513d4ecdc31f2",
   "outputs": [
    {
     "name": "stderr",
     "output_type": "stream",
     "text": [
      "/tmp/ipykernel_1682567/1742626203.py:9: UserWarning: No data for colormapping provided via 'c'. Parameters 'cmap' will be ignored\n",
      "  plt.scatter(reduced_data[:, 0], reduced_data[:, 1], cmap='viridis')  # Se hai etichette\n"
     ]
    },
    {
     "data": {
      "text/plain": [
       "<Figure size 640x480 with 1 Axes>"
      ],
      "image/png": "[encoded data removed]"
     },
     "metadata": {},
     "output_type": "display_data"
    }
   ],
   "execution_count": 54
  }
 ],
 "metadata": {
  "kernelspec": {
   "display_name": "Python 3",
   "language": "python",
   "name": "python3"
  },
  "language_info": {
   "codemirror_mode": {
    "name": "ipython",
    "version": 2
   },
   "file_extension": ".py",
   "mimetype": "text/x-python",
   "name": "python",
   "nbconvert_exporter": "python",
   "pygments_lexer": "ipython2",
   "version": "2.7.6"
  }
 },
 "nbformat": 4,
 "nbformat_minor": 5
}
